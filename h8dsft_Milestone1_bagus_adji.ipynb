{
 "cells": [
  {
   "cell_type": "markdown",
   "metadata": {},
   "source": [
    "# Pengenalan\n",
    "\n",
    "\n",
    "Milestone 1\n",
    "\n",
    "- Nama  : Bagus Adji Kusuma\n",
    "- Batch : RMT-032\n",
    "\n",
    "Program ini dibuat guna menganalisis data diluar dari perusahaan Big Ramen Untuk Menentukan Produk baru yang akan dibuat\n",
    "\n",
    "\n",
    "\n"
   ]
  },
  {
   "cell_type": "markdown",
   "metadata": {},
   "source": [
    "Sumber dashboard = https://public.tableau.com/app/profile/bagus.adji.kusuma/viz/DataRamen/DataRatingdanReviewRamenberbagaiNegara?publish=yes"
   ]
  },
  {
   "cell_type": "markdown",
   "metadata": {},
   "source": [
    "# Identifikasi Masalah "
   ]
  },
  {
   "cell_type": "markdown",
   "metadata": {},
   "source": [
    "#### Background\n",
    "\n",
    "Perusahaan Ramen Cup yang bernama \"Big Ramen\", adalah sebuah startup yang berbasis di kota besar yang terinspirasi oleh popularitas dan permintaan yang terus meningkat untuk makanan cepat saji berkualitas tinggi. Big Ramen berkomitmen untuk menciptakan pengalaman makanan yang unik dan memuaskan bagi pelanggan mereka.Karena akhir akhir ini minat konsumen dalam Ramen beragam maka itu adalah sebuah tantangan tersendiri bagi perusahaan, oleh karena itu Dalam hal ini karena perusahaan Big Ramen menginginkan produk baru dengan mempertimbangkan minat dan kualitas berdasarkan Rating, review dari berbagai negara dan brand pesaing lainnya, Tim di BigRamen berusaha untuk terus mengembangkan variasi rasa dan tekstur ramen mereka,Meskipun hanya memiliki 4 macam produk ramen, dengan memperhatikan tren dan preferensi pasar yang berkembang. Mereka percaya bahwa dengan menggabungkan penelitian pasar yang cermat dan kreativitas, mereka dapat menghasilkan produk ramen cup yang tidak hanya memuaskan selera, tetapi juga memenuhi harapan pelanggan yang semakin tinggi.\n",
    "\n",
    "#### Topik Permasalahan \n",
    "\n",
    " Big Ramen hanya memiliki 4 macam variasi ramen dan ingin Berfokus pada bagaimana Big Ramen dapat secara efektif menggunakan data ulasan dan rating pelanggan yang mereka miliki dalam setiap negara dan brand pesaing lainnya untuk mengidentifikasi peluang inovasi produk. Hal ini akan melibatkan analisis mendalam terhadap data ulasan dan rating yang ada, penggunaan metode analisis yang tepat untuk mengungkap pola dan tren konsumen, dan pengembangan strategi yang dapat diimplementasikan untuk meningkatkan kualitas dan kepuasan pelanggan.\n",
    "\n",
    " \n",
    "\n",
    "#### SMART(Specific, Measurable, Achievable, Relevant)\n",
    "##### Specific(mengurangi kesalahan dalam menentukan produk Ramen baru dalam perusahaan)\n",
    "- Peminat Ramen yang beragam membuat perusahaan sulit menentukan produk ramen apa yang cocok untuk produksi karena produk Big Ramen hanya memiliki 4 macam Ramen \n",
    "- data yang diperoleh melimpah dalam menentukan produksi Ramen apa yang akan dibuat, Tim Big Ramen perlu menemukan cara efektif untuk menganalisis informasi tersebut, mengungkap pola dan tren konsumen yang relevan, serta mengembangkan strategi.\n",
    "\n",
    "##### Measurable (Goals)\n",
    "- Menemukan solusi efektif dalam identifikasi peluang inovasi produk dengan melihat kepuasan peminat Ramen dalam berbagai negara dan brand berdasarkan Rating Produk yang mencapai nilai rating 4.5 sampai 5 \n",
    "-  Meningkatkan proses analisis data, dan membuat produk baru yang unik berdasarkan ulasan/Review dari berbagai  Brand yang diasumsikan dalam review ini, nilai yang terbanyak dalam ulasan menjadi pertimbangan dalam pembuatan varian ramen baru \n",
    "\n",
    "##### Achievable (Strategi dalam menemukan varian baru Ramen)\n",
    "- Merancang analisa Tim Big Ramen dengan menggunakan sumber yang tersedia, seperti data ulasan dan rating pelanggan.\n",
    "- Memberikan hasil output yang akan digunakan tim produksi untuk membuat produk baru Ramen.\n",
    "\n",
    "##### Relevant\n",
    "Meningkatkan varian baru dalam Ramen yang unik dan memberikan produk baru dalam bentuk yang akan ditentukan berdasarkan ulasan dan rating yang paling bagus dalam berbagai negara dan brand tertentu yang mana akan menjadi kunci pertumbuhan perusahaan Big Ramen.\n",
    "\n",
    "##### Time Bound\n",
    "Menetapkan jangka waktu yang jelas, yaitu 3 bulan untuk mencapai peningkatan dalam inovasi produk ramen, dan 2 bulan untuk produksi Ramen baru guna menambah varian yang sebelumnya 4 menjadi 5 macam. Diharapkan setelah mengimplementasikan strategi penggunaan data ulasan dan rating pelanggan.\n",
    "\n",
    "#### Problem Statement\n",
    "Peningkatan produksi Ramen yang masih sedikit yaitu 4 macam saja bertambah varian baru menjadi 5 varian mengembangkan varian Ramen ini bukan hanya untuk menambah 1 macam saja tetapi untuk memproduksi varian Ramen unik berdasarkan nilai ulasan dan Rating dari Brand pesaing dengan memanfaatkan waktu selama 5 bulan dalam menganalisa Produk Ramen apa saja dan 2 bulan dalam memproduksi Ramen baru demi menciptakan pengalaman makanan yang unik dan memuaskan bagi pelanggan mereka\n",
    "\n",
    "#### Penjabaran masalah menggunakan 5W+1H\n",
    "- Apa saja brand Ramen di berbagai negara?\n",
    "- Negara mana saja dengan rata-rata % rating terbaik?\n",
    "- Bagaimana nilai Rating didalam negara?\n",
    "- Bagaimana Review dalam setiap negara tentang Ramen?\n",
    "- Bagaimana peringkat ulasan dan Rating yang diterima di suatu Brand atau negara?\n",
    "- apakah ada perbedaan yang signifikan dalam  rating dari gaya kemasan/Style?\n",
    "- Kapan Hasil output akan bisa di distribusikan ke tim Produksi?"
   ]
  },
  {
   "cell_type": "markdown",
   "metadata": {},
   "source": [
    "# Data Loading"
   ]
  },
  {
   "cell_type": "markdown",
   "metadata": {},
   "source": [
    "Import Library yang dibutuhkan saat Explore Data "
   ]
  },
  {
   "cell_type": "code",
   "execution_count": 1,
   "metadata": {},
   "outputs": [],
   "source": [
    "import  pandas as pd \n",
    "from scipy import stats\n",
    "import numpy as np\n",
    "import matplotlib.pyplot as plt\n",
    "import seaborn as sns"
   ]
  },
  {
   "cell_type": "markdown",
   "metadata": {},
   "source": [
    "Karena disini dataset sudah menjadi Csv yang di ambil dari kaggle maka dilanjutkan dengan explore data "
   ]
  },
  {
   "cell_type": "markdown",
   "metadata": {},
   "source": [
    "Sumber = https://www.kaggle.com/datasets/residentmario/ramen-ratings?resource=download"
   ]
  },
  {
   "cell_type": "code",
   "execution_count": 3,
   "metadata": {},
   "outputs": [
    {
     "data": {
      "text/html": [
       "<div>\n",
       "<style scoped>\n",
       "    .dataframe tbody tr th:only-of-type {\n",
       "        vertical-align: middle;\n",
       "    }\n",
       "\n",
       "    .dataframe tbody tr th {\n",
       "        vertical-align: top;\n",
       "    }\n",
       "\n",
       "    .dataframe thead th {\n",
       "        text-align: right;\n",
       "    }\n",
       "</style>\n",
       "<table border=\"1\" class=\"dataframe\">\n",
       "  <thead>\n",
       "    <tr style=\"text-align: right;\">\n",
       "      <th></th>\n",
       "      <th>Review #</th>\n",
       "      <th>Brand</th>\n",
       "      <th>Variety</th>\n",
       "      <th>Style</th>\n",
       "      <th>Country</th>\n",
       "      <th>Stars</th>\n",
       "      <th>Top Ten</th>\n",
       "    </tr>\n",
       "  </thead>\n",
       "  <tbody>\n",
       "    <tr>\n",
       "      <th>0</th>\n",
       "      <td>2580</td>\n",
       "      <td>New Touch</td>\n",
       "      <td>T's Restaurant Tantanmen</td>\n",
       "      <td>Cup</td>\n",
       "      <td>Japan</td>\n",
       "      <td>3.75</td>\n",
       "      <td>NaN</td>\n",
       "    </tr>\n",
       "    <tr>\n",
       "      <th>1</th>\n",
       "      <td>2579</td>\n",
       "      <td>Just Way</td>\n",
       "      <td>Noodles Spicy Hot Sesame Spicy Hot Sesame Guan...</td>\n",
       "      <td>Pack</td>\n",
       "      <td>Taiwan</td>\n",
       "      <td>1</td>\n",
       "      <td>NaN</td>\n",
       "    </tr>\n",
       "    <tr>\n",
       "      <th>2</th>\n",
       "      <td>2578</td>\n",
       "      <td>Nissin</td>\n",
       "      <td>Cup Noodles Chicken Vegetable</td>\n",
       "      <td>Cup</td>\n",
       "      <td>USA</td>\n",
       "      <td>2.25</td>\n",
       "      <td>NaN</td>\n",
       "    </tr>\n",
       "    <tr>\n",
       "      <th>3</th>\n",
       "      <td>2577</td>\n",
       "      <td>Wei Lih</td>\n",
       "      <td>GGE Ramen Snack Tomato Flavor</td>\n",
       "      <td>Pack</td>\n",
       "      <td>Taiwan</td>\n",
       "      <td>2.75</td>\n",
       "      <td>NaN</td>\n",
       "    </tr>\n",
       "    <tr>\n",
       "      <th>4</th>\n",
       "      <td>2576</td>\n",
       "      <td>Ching's Secret</td>\n",
       "      <td>Singapore Curry</td>\n",
       "      <td>Pack</td>\n",
       "      <td>India</td>\n",
       "      <td>3.75</td>\n",
       "      <td>NaN</td>\n",
       "    </tr>\n",
       "  </tbody>\n",
       "</table>\n",
       "</div>"
      ],
      "text/plain": [
       "   Review #           Brand  \\\n",
       "0      2580       New Touch   \n",
       "1      2579        Just Way   \n",
       "2      2578          Nissin   \n",
       "3      2577         Wei Lih   \n",
       "4      2576  Ching's Secret   \n",
       "\n",
       "                                             Variety Style Country Stars  \\\n",
       "0                          T's Restaurant Tantanmen    Cup   Japan  3.75   \n",
       "1  Noodles Spicy Hot Sesame Spicy Hot Sesame Guan...  Pack  Taiwan     1   \n",
       "2                      Cup Noodles Chicken Vegetable   Cup     USA  2.25   \n",
       "3                      GGE Ramen Snack Tomato Flavor  Pack  Taiwan  2.75   \n",
       "4                                    Singapore Curry  Pack   India  3.75   \n",
       "\n",
       "  Top Ten  \n",
       "0     NaN  \n",
       "1     NaN  \n",
       "2     NaN  \n",
       "3     NaN  \n",
       "4     NaN  "
      ]
     },
     "execution_count": 3,
     "metadata": {},
     "output_type": "execute_result"
    }
   ],
   "source": [
    "dataframe=pd.read_csv('ramen_ratings_before_clean.csv')\n",
    "dataframe.head()"
   ]
  },
  {
   "cell_type": "code",
   "execution_count": 4,
   "metadata": {},
   "outputs": [
    {
     "data": {
      "text/html": [
       "<div>\n",
       "<style scoped>\n",
       "    .dataframe tbody tr th:only-of-type {\n",
       "        vertical-align: middle;\n",
       "    }\n",
       "\n",
       "    .dataframe tbody tr th {\n",
       "        vertical-align: top;\n",
       "    }\n",
       "\n",
       "    .dataframe thead th {\n",
       "        text-align: right;\n",
       "    }\n",
       "</style>\n",
       "<table border=\"1\" class=\"dataframe\">\n",
       "  <thead>\n",
       "    <tr style=\"text-align: right;\">\n",
       "      <th></th>\n",
       "      <th>Review #</th>\n",
       "      <th>Brand</th>\n",
       "      <th>Variety</th>\n",
       "      <th>Style</th>\n",
       "      <th>Country</th>\n",
       "      <th>Stars</th>\n",
       "      <th>Top Ten</th>\n",
       "    </tr>\n",
       "  </thead>\n",
       "  <tbody>\n",
       "    <tr>\n",
       "      <th>2575</th>\n",
       "      <td>5</td>\n",
       "      <td>Vifon</td>\n",
       "      <td>Hu Tiu Nam Vang [\"Phnom Penh\" style] Asian Sty...</td>\n",
       "      <td>Bowl</td>\n",
       "      <td>Vietnam</td>\n",
       "      <td>3.5</td>\n",
       "      <td>NaN</td>\n",
       "    </tr>\n",
       "    <tr>\n",
       "      <th>2576</th>\n",
       "      <td>4</td>\n",
       "      <td>Wai Wai</td>\n",
       "      <td>Oriental Style Instant Noodles</td>\n",
       "      <td>Pack</td>\n",
       "      <td>Thailand</td>\n",
       "      <td>1</td>\n",
       "      <td>NaN</td>\n",
       "    </tr>\n",
       "    <tr>\n",
       "      <th>2577</th>\n",
       "      <td>3</td>\n",
       "      <td>Wai Wai</td>\n",
       "      <td>Tom Yum Shrimp</td>\n",
       "      <td>Pack</td>\n",
       "      <td>Thailand</td>\n",
       "      <td>2</td>\n",
       "      <td>NaN</td>\n",
       "    </tr>\n",
       "    <tr>\n",
       "      <th>2578</th>\n",
       "      <td>2</td>\n",
       "      <td>Wai Wai</td>\n",
       "      <td>Tom Yum Chili Flavor</td>\n",
       "      <td>Pack</td>\n",
       "      <td>Thailand</td>\n",
       "      <td>2</td>\n",
       "      <td>NaN</td>\n",
       "    </tr>\n",
       "    <tr>\n",
       "      <th>2579</th>\n",
       "      <td>1</td>\n",
       "      <td>Westbrae</td>\n",
       "      <td>Miso Ramen</td>\n",
       "      <td>Pack</td>\n",
       "      <td>USA</td>\n",
       "      <td>0.5</td>\n",
       "      <td>NaN</td>\n",
       "    </tr>\n",
       "  </tbody>\n",
       "</table>\n",
       "</div>"
      ],
      "text/plain": [
       "      Review #     Brand                                            Variety  \\\n",
       "2575         5     Vifon  Hu Tiu Nam Vang [\"Phnom Penh\" style] Asian Sty...   \n",
       "2576         4   Wai Wai                     Oriental Style Instant Noodles   \n",
       "2577         3   Wai Wai                                     Tom Yum Shrimp   \n",
       "2578         2   Wai Wai                               Tom Yum Chili Flavor   \n",
       "2579         1  Westbrae                                         Miso Ramen   \n",
       "\n",
       "     Style   Country Stars Top Ten  \n",
       "2575  Bowl   Vietnam   3.5     NaN  \n",
       "2576  Pack  Thailand     1     NaN  \n",
       "2577  Pack  Thailand     2     NaN  \n",
       "2578  Pack  Thailand     2     NaN  \n",
       "2579  Pack       USA   0.5     NaN  "
      ]
     },
     "execution_count": 4,
     "metadata": {},
     "output_type": "execute_result"
    }
   ],
   "source": [
    "dataframe.tail()"
   ]
  },
  {
   "cell_type": "markdown",
   "metadata": {},
   "source": [
    "# Data Cleaning"
   ]
  },
  {
   "cell_type": "markdown",
   "metadata": {},
   "source": [
    "### Eksplorasi Data"
   ]
  },
  {
   "cell_type": "markdown",
   "metadata": {},
   "source": [
    "##### Insight :\n",
    "Terdapat 2580 entries dan 7 kolom yang akan dihilangkan hanya menjadi 6 kolom saja, dan hanya 300 rows saja . Type data yang ditampilkan masih belum tepat, misalnya \"Stars\" yang terdeteksi sebagai data kategorik padahal seharusnya merupakan data bertype float, pada kolom Review masih terdapat simbol yang harus di hilangkan."
   ]
  },
  {
   "cell_type": "code",
   "execution_count": 4,
   "metadata": {},
   "outputs": [
    {
     "name": "stdout",
     "output_type": "stream",
     "text": [
      "<class 'pandas.core.frame.DataFrame'>\n",
      "RangeIndex: 2580 entries, 0 to 2579\n",
      "Data columns (total 7 columns):\n",
      " #   Column    Non-Null Count  Dtype \n",
      "---  ------    --------------  ----- \n",
      " 0   Review #  2580 non-null   int64 \n",
      " 1   Brand     2580 non-null   object\n",
      " 2   Variety   2580 non-null   object\n",
      " 3   Style     2578 non-null   object\n",
      " 4   Country   2580 non-null   object\n",
      " 5   Stars     2580 non-null   object\n",
      " 6   Top Ten   41 non-null     object\n",
      "dtypes: int64(1), object(6)\n",
      "memory usage: 141.2+ KB\n"
     ]
    }
   ],
   "source": [
    "dataframe.info()"
   ]
  },
  {
   "cell_type": "markdown",
   "metadata": {},
   "source": [
    "pada saat menghasilkan ringkasan statistik deskriptif disini belum ada Kolom Rating(Stars) "
   ]
  },
  {
   "cell_type": "code",
   "execution_count": 5,
   "metadata": {},
   "outputs": [
    {
     "data": {
      "text/html": [
       "<div>\n",
       "<style scoped>\n",
       "    .dataframe tbody tr th:only-of-type {\n",
       "        vertical-align: middle;\n",
       "    }\n",
       "\n",
       "    .dataframe tbody tr th {\n",
       "        vertical-align: top;\n",
       "    }\n",
       "\n",
       "    .dataframe thead th {\n",
       "        text-align: right;\n",
       "    }\n",
       "</style>\n",
       "<table border=\"1\" class=\"dataframe\">\n",
       "  <thead>\n",
       "    <tr style=\"text-align: right;\">\n",
       "      <th></th>\n",
       "      <th>Review #</th>\n",
       "    </tr>\n",
       "  </thead>\n",
       "  <tbody>\n",
       "    <tr>\n",
       "      <th>count</th>\n",
       "      <td>2580.000000</td>\n",
       "    </tr>\n",
       "    <tr>\n",
       "      <th>mean</th>\n",
       "      <td>1290.500000</td>\n",
       "    </tr>\n",
       "    <tr>\n",
       "      <th>std</th>\n",
       "      <td>744.926171</td>\n",
       "    </tr>\n",
       "    <tr>\n",
       "      <th>min</th>\n",
       "      <td>1.000000</td>\n",
       "    </tr>\n",
       "    <tr>\n",
       "      <th>25%</th>\n",
       "      <td>645.750000</td>\n",
       "    </tr>\n",
       "    <tr>\n",
       "      <th>50%</th>\n",
       "      <td>1290.500000</td>\n",
       "    </tr>\n",
       "    <tr>\n",
       "      <th>75%</th>\n",
       "      <td>1935.250000</td>\n",
       "    </tr>\n",
       "    <tr>\n",
       "      <th>max</th>\n",
       "      <td>2580.000000</td>\n",
       "    </tr>\n",
       "  </tbody>\n",
       "</table>\n",
       "</div>"
      ],
      "text/plain": [
       "          Review #\n",
       "count  2580.000000\n",
       "mean   1290.500000\n",
       "std     744.926171\n",
       "min       1.000000\n",
       "25%     645.750000\n",
       "50%    1290.500000\n",
       "75%    1935.250000\n",
       "max    2580.000000"
      ]
     },
     "execution_count": 5,
     "metadata": {},
     "output_type": "execute_result"
    }
   ],
   "source": [
    "dataframe.describe()"
   ]
  },
  {
   "cell_type": "markdown",
   "metadata": {},
   "source": [
    "Pada Missing Values kolom style terdapat 2 nilai yang hilang dan Top Ten terdapat 2539 nilai yang hilang, kolom Top Ten akan di hilangkan."
   ]
  },
  {
   "cell_type": "code",
   "execution_count": 6,
   "metadata": {},
   "outputs": [
    {
     "data": {
      "text/plain": [
       "Review #       0\n",
       "Brand          0\n",
       "Variety        0\n",
       "Style          2\n",
       "Country        0\n",
       "Stars          0\n",
       "Top Ten     2539\n",
       "dtype: int64"
      ]
     },
     "execution_count": 6,
     "metadata": {},
     "output_type": "execute_result"
    }
   ],
   "source": [
    "dataframe.isnull().sum()"
   ]
  },
  {
   "cell_type": "markdown",
   "metadata": {},
   "source": [
    "Menampilkan List-list Kolom "
   ]
  },
  {
   "cell_type": "code",
   "execution_count": 7,
   "metadata": {},
   "outputs": [
    {
     "data": {
      "text/plain": [
       "['Review #', 'Brand', 'Variety', 'Style', 'Country', 'Stars', 'Top Ten']"
      ]
     },
     "execution_count": 7,
     "metadata": {},
     "output_type": "execute_result"
    }
   ],
   "source": [
    "dataframe.columns.tolist()"
   ]
  },
  {
   "cell_type": "markdown",
   "metadata": {},
   "source": [
    "Menampilkan nilai Unik dalam kolom Rating/Rating"
   ]
  },
  {
   "cell_type": "code",
   "execution_count": null,
   "metadata": {},
   "outputs": [],
   "source": [
    "dataframe.Stars.unique().tolist()"
   ]
  },
  {
   "cell_type": "markdown",
   "metadata": {},
   "source": [
    "### Proses Cleaning"
   ]
  },
  {
   "cell_type": "code",
   "execution_count": 26,
   "metadata": {},
   "outputs": [],
   "source": [
    "# Membaca file Csv Ramen_rating\n",
    "dataframe=pd.read_csv('ramen_ratings_before_clean.csv')"
   ]
  },
  {
   "cell_type": "code",
   "execution_count": 27,
   "metadata": {},
   "outputs": [
    {
     "data": {
      "text/html": [
       "<div>\n",
       "<style scoped>\n",
       "    .dataframe tbody tr th:only-of-type {\n",
       "        vertical-align: middle;\n",
       "    }\n",
       "\n",
       "    .dataframe tbody tr th {\n",
       "        vertical-align: top;\n",
       "    }\n",
       "\n",
       "    .dataframe thead th {\n",
       "        text-align: right;\n",
       "    }\n",
       "</style>\n",
       "<table border=\"1\" class=\"dataframe\">\n",
       "  <thead>\n",
       "    <tr style=\"text-align: right;\">\n",
       "      <th></th>\n",
       "      <th>Review #</th>\n",
       "      <th>Brand</th>\n",
       "      <th>Variety</th>\n",
       "      <th>Style</th>\n",
       "      <th>Country</th>\n",
       "      <th>Stars</th>\n",
       "      <th>Top Ten</th>\n",
       "    </tr>\n",
       "  </thead>\n",
       "  <tbody>\n",
       "    <tr>\n",
       "      <th>0</th>\n",
       "      <td>2580</td>\n",
       "      <td>New Touch</td>\n",
       "      <td>T's Restaurant Tantanmen</td>\n",
       "      <td>Cup</td>\n",
       "      <td>Japan</td>\n",
       "      <td>3.75</td>\n",
       "      <td>NaN</td>\n",
       "    </tr>\n",
       "    <tr>\n",
       "      <th>1</th>\n",
       "      <td>2579</td>\n",
       "      <td>Just Way</td>\n",
       "      <td>Noodles Spicy Hot Sesame Spicy Hot Sesame Guan...</td>\n",
       "      <td>Pack</td>\n",
       "      <td>Taiwan</td>\n",
       "      <td>1</td>\n",
       "      <td>NaN</td>\n",
       "    </tr>\n",
       "    <tr>\n",
       "      <th>2</th>\n",
       "      <td>2578</td>\n",
       "      <td>Nissin</td>\n",
       "      <td>Cup Noodles Chicken Vegetable</td>\n",
       "      <td>Cup</td>\n",
       "      <td>USA</td>\n",
       "      <td>2.25</td>\n",
       "      <td>NaN</td>\n",
       "    </tr>\n",
       "    <tr>\n",
       "      <th>3</th>\n",
       "      <td>2577</td>\n",
       "      <td>Wei Lih</td>\n",
       "      <td>GGE Ramen Snack Tomato Flavor</td>\n",
       "      <td>Pack</td>\n",
       "      <td>Taiwan</td>\n",
       "      <td>2.75</td>\n",
       "      <td>NaN</td>\n",
       "    </tr>\n",
       "    <tr>\n",
       "      <th>4</th>\n",
       "      <td>2576</td>\n",
       "      <td>Ching's Secret</td>\n",
       "      <td>Singapore Curry</td>\n",
       "      <td>Pack</td>\n",
       "      <td>India</td>\n",
       "      <td>3.75</td>\n",
       "      <td>NaN</td>\n",
       "    </tr>\n",
       "  </tbody>\n",
       "</table>\n",
       "</div>"
      ],
      "text/plain": [
       "   Review #           Brand  \\\n",
       "0      2580       New Touch   \n",
       "1      2579        Just Way   \n",
       "2      2578          Nissin   \n",
       "3      2577         Wei Lih   \n",
       "4      2576  Ching's Secret   \n",
       "\n",
       "                                             Variety Style Country Stars  \\\n",
       "0                          T's Restaurant Tantanmen    Cup   Japan  3.75   \n",
       "1  Noodles Spicy Hot Sesame Spicy Hot Sesame Guan...  Pack  Taiwan     1   \n",
       "2                      Cup Noodles Chicken Vegetable   Cup     USA  2.25   \n",
       "3                      GGE Ramen Snack Tomato Flavor  Pack  Taiwan  2.75   \n",
       "4                                    Singapore Curry  Pack   India  3.75   \n",
       "\n",
       "  Top Ten  \n",
       "0     NaN  \n",
       "1     NaN  \n",
       "2     NaN  \n",
       "3     NaN  \n",
       "4     NaN  "
      ]
     },
     "execution_count": 27,
     "metadata": {},
     "output_type": "execute_result"
    }
   ],
   "source": [
    "# Menampilkan 5 data teratas sebelum dilakukan proses cleaning\n",
    "dataframe.head(5)"
   ]
  },
  {
   "cell_type": "markdown",
   "metadata": {},
   "source": [
    "Mengganti nama-nama kolom dalam dataset"
   ]
  },
  {
   "cell_type": "code",
   "execution_count": 28,
   "metadata": {},
   "outputs": [
    {
     "data": {
      "text/html": [
       "<div>\n",
       "<style scoped>\n",
       "    .dataframe tbody tr th:only-of-type {\n",
       "        vertical-align: middle;\n",
       "    }\n",
       "\n",
       "    .dataframe tbody tr th {\n",
       "        vertical-align: top;\n",
       "    }\n",
       "\n",
       "    .dataframe thead th {\n",
       "        text-align: right;\n",
       "    }\n",
       "</style>\n",
       "<table border=\"1\" class=\"dataframe\">\n",
       "  <thead>\n",
       "    <tr style=\"text-align: right;\">\n",
       "      <th></th>\n",
       "      <th>Review</th>\n",
       "      <th>Brand Ramen</th>\n",
       "      <th>Variety Ramen</th>\n",
       "      <th>Style</th>\n",
       "      <th>Country</th>\n",
       "      <th>Rating</th>\n",
       "      <th>Top Ten</th>\n",
       "    </tr>\n",
       "  </thead>\n",
       "  <tbody>\n",
       "    <tr>\n",
       "      <th>0</th>\n",
       "      <td>2580</td>\n",
       "      <td>New Touch</td>\n",
       "      <td>T's Restaurant Tantanmen</td>\n",
       "      <td>Cup</td>\n",
       "      <td>Japan</td>\n",
       "      <td>3.75</td>\n",
       "      <td>NaN</td>\n",
       "    </tr>\n",
       "    <tr>\n",
       "      <th>1</th>\n",
       "      <td>2579</td>\n",
       "      <td>Just Way</td>\n",
       "      <td>Noodles Spicy Hot Sesame Spicy Hot Sesame Guan...</td>\n",
       "      <td>Pack</td>\n",
       "      <td>Taiwan</td>\n",
       "      <td>1</td>\n",
       "      <td>NaN</td>\n",
       "    </tr>\n",
       "    <tr>\n",
       "      <th>2</th>\n",
       "      <td>2578</td>\n",
       "      <td>Nissin</td>\n",
       "      <td>Cup Noodles Chicken Vegetable</td>\n",
       "      <td>Cup</td>\n",
       "      <td>USA</td>\n",
       "      <td>2.25</td>\n",
       "      <td>NaN</td>\n",
       "    </tr>\n",
       "    <tr>\n",
       "      <th>3</th>\n",
       "      <td>2577</td>\n",
       "      <td>Wei Lih</td>\n",
       "      <td>GGE Ramen Snack Tomato Flavor</td>\n",
       "      <td>Pack</td>\n",
       "      <td>Taiwan</td>\n",
       "      <td>2.75</td>\n",
       "      <td>NaN</td>\n",
       "    </tr>\n",
       "    <tr>\n",
       "      <th>4</th>\n",
       "      <td>2576</td>\n",
       "      <td>Ching's Secret</td>\n",
       "      <td>Singapore Curry</td>\n",
       "      <td>Pack</td>\n",
       "      <td>India</td>\n",
       "      <td>3.75</td>\n",
       "      <td>NaN</td>\n",
       "    </tr>\n",
       "    <tr>\n",
       "      <th>...</th>\n",
       "      <td>...</td>\n",
       "      <td>...</td>\n",
       "      <td>...</td>\n",
       "      <td>...</td>\n",
       "      <td>...</td>\n",
       "      <td>...</td>\n",
       "      <td>...</td>\n",
       "    </tr>\n",
       "    <tr>\n",
       "      <th>2575</th>\n",
       "      <td>5</td>\n",
       "      <td>Vifon</td>\n",
       "      <td>Hu Tiu Nam Vang [\"Phnom Penh\" style] Asian Sty...</td>\n",
       "      <td>Bowl</td>\n",
       "      <td>Vietnam</td>\n",
       "      <td>3.5</td>\n",
       "      <td>NaN</td>\n",
       "    </tr>\n",
       "    <tr>\n",
       "      <th>2576</th>\n",
       "      <td>4</td>\n",
       "      <td>Wai Wai</td>\n",
       "      <td>Oriental Style Instant Noodles</td>\n",
       "      <td>Pack</td>\n",
       "      <td>Thailand</td>\n",
       "      <td>1</td>\n",
       "      <td>NaN</td>\n",
       "    </tr>\n",
       "    <tr>\n",
       "      <th>2577</th>\n",
       "      <td>3</td>\n",
       "      <td>Wai Wai</td>\n",
       "      <td>Tom Yum Shrimp</td>\n",
       "      <td>Pack</td>\n",
       "      <td>Thailand</td>\n",
       "      <td>2</td>\n",
       "      <td>NaN</td>\n",
       "    </tr>\n",
       "    <tr>\n",
       "      <th>2578</th>\n",
       "      <td>2</td>\n",
       "      <td>Wai Wai</td>\n",
       "      <td>Tom Yum Chili Flavor</td>\n",
       "      <td>Pack</td>\n",
       "      <td>Thailand</td>\n",
       "      <td>2</td>\n",
       "      <td>NaN</td>\n",
       "    </tr>\n",
       "    <tr>\n",
       "      <th>2579</th>\n",
       "      <td>1</td>\n",
       "      <td>Westbrae</td>\n",
       "      <td>Miso Ramen</td>\n",
       "      <td>Pack</td>\n",
       "      <td>USA</td>\n",
       "      <td>0.5</td>\n",
       "      <td>NaN</td>\n",
       "    </tr>\n",
       "  </tbody>\n",
       "</table>\n",
       "<p>2580 rows × 7 columns</p>\n",
       "</div>"
      ],
      "text/plain": [
       "      Review     Brand Ramen  \\\n",
       "0       2580       New Touch   \n",
       "1       2579        Just Way   \n",
       "2       2578          Nissin   \n",
       "3       2577         Wei Lih   \n",
       "4       2576  Ching's Secret   \n",
       "...      ...             ...   \n",
       "2575       5           Vifon   \n",
       "2576       4         Wai Wai   \n",
       "2577       3         Wai Wai   \n",
       "2578       2         Wai Wai   \n",
       "2579       1        Westbrae   \n",
       "\n",
       "                                          Variety Ramen Style   Country  \\\n",
       "0                             T's Restaurant Tantanmen    Cup     Japan   \n",
       "1     Noodles Spicy Hot Sesame Spicy Hot Sesame Guan...  Pack    Taiwan   \n",
       "2                         Cup Noodles Chicken Vegetable   Cup       USA   \n",
       "3                         GGE Ramen Snack Tomato Flavor  Pack    Taiwan   \n",
       "4                                       Singapore Curry  Pack     India   \n",
       "...                                                 ...   ...       ...   \n",
       "2575  Hu Tiu Nam Vang [\"Phnom Penh\" style] Asian Sty...  Bowl   Vietnam   \n",
       "2576                     Oriental Style Instant Noodles  Pack  Thailand   \n",
       "2577                                     Tom Yum Shrimp  Pack  Thailand   \n",
       "2578                               Tom Yum Chili Flavor  Pack  Thailand   \n",
       "2579                                         Miso Ramen  Pack       USA   \n",
       "\n",
       "     Rating Top Ten  \n",
       "0      3.75     NaN  \n",
       "1         1     NaN  \n",
       "2      2.25     NaN  \n",
       "3      2.75     NaN  \n",
       "4      3.75     NaN  \n",
       "...     ...     ...  \n",
       "2575    3.5     NaN  \n",
       "2576      1     NaN  \n",
       "2577      2     NaN  \n",
       "2578      2     NaN  \n",
       "2579    0.5     NaN  \n",
       "\n",
       "[2580 rows x 7 columns]"
      ]
     },
     "execution_count": 28,
     "metadata": {},
     "output_type": "execute_result"
    }
   ],
   "source": [
    "dataframe.columns=['Review', 'Brand Ramen', 'Variety Ramen', 'Style', 'Country', 'Rating', 'Top Ten']\n",
    "dataframe"
   ]
  },
  {
   "cell_type": "markdown",
   "metadata": {},
   "source": [
    "Mengecek kembali apakah ada str yang membuat kolom tidak bisa dijadikan tipe data Float"
   ]
  },
  {
   "cell_type": "code",
   "execution_count": null,
   "metadata": {},
   "outputs": [],
   "source": [
    "dataframe.Rating.unique().tolist()"
   ]
  },
  {
   "cell_type": "markdown",
   "metadata": {},
   "source": [
    "Mengubah str \"unrated dalam kolom Rating menjadi 0"
   ]
  },
  {
   "cell_type": "code",
   "execution_count": 30,
   "metadata": {},
   "outputs": [],
   "source": [
    "dataframe['Rating']=dataframe['Rating'].str.replace(\"Unrated\",\"0\")"
   ]
  },
  {
   "cell_type": "markdown",
   "metadata": {},
   "source": [
    "Mengubah Tipe data object Menjadi Float dalam kolom Rating"
   ]
  },
  {
   "cell_type": "code",
   "execution_count": 31,
   "metadata": {},
   "outputs": [],
   "source": [
    "dataframe['Rating']=pd.to_numeric(dataframe['Rating'])"
   ]
  },
  {
   "cell_type": "markdown",
   "metadata": {},
   "source": [
    "Mengubah Tipe data Numeric di kolom Review"
   ]
  },
  {
   "cell_type": "code",
   "execution_count": 32,
   "metadata": {},
   "outputs": [],
   "source": [
    "dataframe['Review']=pd.to_numeric(dataframe['Review'])"
   ]
  },
  {
   "cell_type": "markdown",
   "metadata": {},
   "source": [
    "Menghapus Kolom Top Ten"
   ]
  },
  {
   "cell_type": "code",
   "execution_count": 33,
   "metadata": {},
   "outputs": [],
   "source": [
    "dataframe.drop(columns=['Top Ten'], inplace=True)"
   ]
  },
  {
   "cell_type": "markdown",
   "metadata": {},
   "source": [
    "Menampilkan informasi setelah mengganti tipe data dan menghapus kolom Top Ten"
   ]
  },
  {
   "cell_type": "code",
   "execution_count": 35,
   "metadata": {},
   "outputs": [
    {
     "name": "stdout",
     "output_type": "stream",
     "text": [
      "<class 'pandas.core.frame.DataFrame'>\n",
      "RangeIndex: 2580 entries, 0 to 2579\n",
      "Data columns (total 6 columns):\n",
      " #   Column         Non-Null Count  Dtype  \n",
      "---  ------         --------------  -----  \n",
      " 0   Review         2580 non-null   int64  \n",
      " 1   Brand Ramen    2580 non-null   object \n",
      " 2   Variety Ramen  2580 non-null   object \n",
      " 3   Style          2578 non-null   object \n",
      " 4   Country        2580 non-null   object \n",
      " 5   Rating         2580 non-null   float64\n",
      "dtypes: float64(1), int64(1), object(4)\n",
      "memory usage: 121.1+ KB\n"
     ]
    }
   ],
   "source": [
    "dataframe.info()"
   ]
  },
  {
   "cell_type": "markdown",
   "metadata": {},
   "source": [
    "Simpan DataFrame ke file CSV dengan 300 rows saja tanpa menyertakan indeks"
   ]
  },
  {
   "cell_type": "code",
   "execution_count": 37,
   "metadata": {},
   "outputs": [],
   "source": [
    "dataframe.head(300).to_csv('data_Ramen1.csv', sep=';', index=False)"
   ]
  },
  {
   "cell_type": "markdown",
   "metadata": {},
   "source": [
    "# Analisis dan Perhitungan"
   ]
  },
  {
   "cell_type": "markdown",
   "metadata": {},
   "source": [
    "Dalam proses analisis ini akan melibatkan Perhitungan Statistik Deskriptif dan Inferential"
   ]
  },
  {
   "cell_type": "code",
   "execution_count": 38,
   "metadata": {},
   "outputs": [],
   "source": [
    "import pandas as pd\n",
    "from scipy import stats\n",
    "import numpy as np"
   ]
  },
  {
   "cell_type": "markdown",
   "metadata": {},
   "source": [
    "Load Dataset yang sudah clean dan menampilkan semua dataset dengan 300 rows dan 6 column"
   ]
  },
  {
   "cell_type": "code",
   "execution_count": 39,
   "metadata": {},
   "outputs": [
    {
     "data": {
      "text/html": [
       "<div>\n",
       "<style scoped>\n",
       "    .dataframe tbody tr th:only-of-type {\n",
       "        vertical-align: middle;\n",
       "    }\n",
       "\n",
       "    .dataframe tbody tr th {\n",
       "        vertical-align: top;\n",
       "    }\n",
       "\n",
       "    .dataframe thead th {\n",
       "        text-align: right;\n",
       "    }\n",
       "</style>\n",
       "<table border=\"1\" class=\"dataframe\">\n",
       "  <thead>\n",
       "    <tr style=\"text-align: right;\">\n",
       "      <th></th>\n",
       "      <th>Review</th>\n",
       "      <th>Brand Ramen</th>\n",
       "      <th>Variety Ramen</th>\n",
       "      <th>Style</th>\n",
       "      <th>Country</th>\n",
       "      <th>Rating</th>\n",
       "    </tr>\n",
       "  </thead>\n",
       "  <tbody>\n",
       "    <tr>\n",
       "      <th>0</th>\n",
       "      <td>2580</td>\n",
       "      <td>New Touch</td>\n",
       "      <td>T's Restaurant Tantanmen</td>\n",
       "      <td>Cup</td>\n",
       "      <td>Japan</td>\n",
       "      <td>3.75</td>\n",
       "    </tr>\n",
       "    <tr>\n",
       "      <th>1</th>\n",
       "      <td>2579</td>\n",
       "      <td>Just Way</td>\n",
       "      <td>Noodles Spicy Hot Sesame Spicy Hot Sesame Guan...</td>\n",
       "      <td>Pack</td>\n",
       "      <td>Taiwan</td>\n",
       "      <td>1.00</td>\n",
       "    </tr>\n",
       "    <tr>\n",
       "      <th>2</th>\n",
       "      <td>2578</td>\n",
       "      <td>Nissin</td>\n",
       "      <td>Cup Noodles Chicken Vegetable</td>\n",
       "      <td>Cup</td>\n",
       "      <td>USA</td>\n",
       "      <td>2.25</td>\n",
       "    </tr>\n",
       "    <tr>\n",
       "      <th>3</th>\n",
       "      <td>2577</td>\n",
       "      <td>Wei Lih</td>\n",
       "      <td>GGE Ramen Snack Tomato Flavor</td>\n",
       "      <td>Pack</td>\n",
       "      <td>Taiwan</td>\n",
       "      <td>2.75</td>\n",
       "    </tr>\n",
       "    <tr>\n",
       "      <th>4</th>\n",
       "      <td>2576</td>\n",
       "      <td>Ching's Secret</td>\n",
       "      <td>Singapore Curry</td>\n",
       "      <td>Pack</td>\n",
       "      <td>India</td>\n",
       "      <td>3.75</td>\n",
       "    </tr>\n",
       "    <tr>\n",
       "      <th>...</th>\n",
       "      <td>...</td>\n",
       "      <td>...</td>\n",
       "      <td>...</td>\n",
       "      <td>...</td>\n",
       "      <td>...</td>\n",
       "      <td>...</td>\n",
       "    </tr>\n",
       "    <tr>\n",
       "      <th>295</th>\n",
       "      <td>2285</td>\n",
       "      <td>Fantastic</td>\n",
       "      <td>Noodles Beef Flavour</td>\n",
       "      <td>Cup</td>\n",
       "      <td>Australia</td>\n",
       "      <td>3.00</td>\n",
       "    </tr>\n",
       "    <tr>\n",
       "      <th>296</th>\n",
       "      <td>2284</td>\n",
       "      <td>Nissin</td>\n",
       "      <td>Korean Kimchi Flavour Vermicelli</td>\n",
       "      <td>Cup</td>\n",
       "      <td>Hong Kong</td>\n",
       "      <td>4.00</td>\n",
       "    </tr>\n",
       "    <tr>\n",
       "      <th>297</th>\n",
       "      <td>2283</td>\n",
       "      <td>Nissin</td>\n",
       "      <td>Raoh Pork Bone Soy Soup Noodle</td>\n",
       "      <td>Pack</td>\n",
       "      <td>Japan</td>\n",
       "      <td>5.00</td>\n",
       "    </tr>\n",
       "    <tr>\n",
       "      <th>298</th>\n",
       "      <td>2282</td>\n",
       "      <td>Samyang Foods</td>\n",
       "      <td>Gold Jjamppong Fried Noodle</td>\n",
       "      <td>Pack</td>\n",
       "      <td>South Korea</td>\n",
       "      <td>5.00</td>\n",
       "    </tr>\n",
       "    <tr>\n",
       "      <th>299</th>\n",
       "      <td>2281</td>\n",
       "      <td>Nissin</td>\n",
       "      <td>Demae Iccho Red Hot Seafood Flavour Instant No...</td>\n",
       "      <td>Cup</td>\n",
       "      <td>Hong Kong</td>\n",
       "      <td>4.00</td>\n",
       "    </tr>\n",
       "  </tbody>\n",
       "</table>\n",
       "<p>300 rows × 6 columns</p>\n",
       "</div>"
      ],
      "text/plain": [
       "     Review     Brand Ramen  \\\n",
       "0      2580       New Touch   \n",
       "1      2579        Just Way   \n",
       "2      2578          Nissin   \n",
       "3      2577         Wei Lih   \n",
       "4      2576  Ching's Secret   \n",
       "..      ...             ...   \n",
       "295    2285       Fantastic   \n",
       "296    2284          Nissin   \n",
       "297    2283          Nissin   \n",
       "298    2282   Samyang Foods   \n",
       "299    2281          Nissin   \n",
       "\n",
       "                                         Variety Ramen Style      Country  \\\n",
       "0                            T's Restaurant Tantanmen    Cup        Japan   \n",
       "1    Noodles Spicy Hot Sesame Spicy Hot Sesame Guan...  Pack       Taiwan   \n",
       "2                        Cup Noodles Chicken Vegetable   Cup          USA   \n",
       "3                        GGE Ramen Snack Tomato Flavor  Pack       Taiwan   \n",
       "4                                      Singapore Curry  Pack        India   \n",
       "..                                                 ...   ...          ...   \n",
       "295                               Noodles Beef Flavour   Cup    Australia   \n",
       "296                   Korean Kimchi Flavour Vermicelli   Cup    Hong Kong   \n",
       "297                     Raoh Pork Bone Soy Soup Noodle  Pack        Japan   \n",
       "298                        Gold Jjamppong Fried Noodle  Pack  South Korea   \n",
       "299  Demae Iccho Red Hot Seafood Flavour Instant No...   Cup    Hong Kong   \n",
       "\n",
       "     Rating  \n",
       "0      3.75  \n",
       "1      1.00  \n",
       "2      2.25  \n",
       "3      2.75  \n",
       "4      3.75  \n",
       "..      ...  \n",
       "295    3.00  \n",
       "296    4.00  \n",
       "297    5.00  \n",
       "298    5.00  \n",
       "299    4.00  \n",
       "\n",
       "[300 rows x 6 columns]"
      ]
     },
     "execution_count": 39,
     "metadata": {},
     "output_type": "execute_result"
    }
   ],
   "source": [
    "dataload=pd.read_csv('data_Ramen1.csv', sep=';')\n",
    "dataload"
   ]
  },
  {
   "cell_type": "markdown",
   "metadata": {},
   "source": [
    "##### Analisa Deskriptif\n",
    " Dalam penjabaran masalah tentang Bagaimana peringkat ulasan dan Rating yang diterima di suatu Brand atau negara? akan di lakukan Analisa Deskriptif Measurement of Central Tendency guna membantu mencari nilai tengah, rata-rata, dan nilai yang sering muncul ini akan diperlukan untuk mempertimbangkan suatu rating dan review mana saja yang mendapatkan feedback yang bagus dalam suatu brand atau negara "
   ]
  },
  {
   "cell_type": "markdown",
   "metadata": {},
   "source": [
    "Dimulai dengan menghitung nilai mean, median dari review"
   ]
  },
  {
   "cell_type": "code",
   "execution_count": 40,
   "metadata": {},
   "outputs": [
    {
     "name": "stdout",
     "output_type": "stream",
     "text": [
      "<class 'pandas.core.frame.DataFrame'>\n",
      "RangeIndex: 300 entries, 0 to 299\n",
      "Data columns (total 6 columns):\n",
      " #   Column         Non-Null Count  Dtype  \n",
      "---  ------         --------------  -----  \n",
      " 0   Review         300 non-null    int64  \n",
      " 1   Brand Ramen    300 non-null    object \n",
      " 2   Variety Ramen  300 non-null    object \n",
      " 3   Style          300 non-null    object \n",
      " 4   Country        300 non-null    object \n",
      " 5   Rating         300 non-null    float64\n",
      "dtypes: float64(1), int64(1), object(4)\n",
      "memory usage: 14.2+ KB\n"
     ]
    }
   ],
   "source": [
    "dataload.info()"
   ]
  },
  {
   "cell_type": "code",
   "execution_count": 41,
   "metadata": {},
   "outputs": [
    {
     "data": {
      "text/plain": [
       "['Review', 'Brand Ramen', 'Variety Ramen', 'Style', 'Country', 'Rating']"
      ]
     },
     "execution_count": 41,
     "metadata": {},
     "output_type": "execute_result"
    }
   ],
   "source": [
    "dataload.columns.tolist()"
   ]
  },
  {
   "cell_type": "markdown",
   "metadata": {},
   "source": [
    "Digunakan untuk menghitung jumlah kemunculan setiap nilai yang ada dalam kolom 'Review', 'Rating'"
   ]
  },
  {
   "cell_type": "code",
   "execution_count": null,
   "metadata": {},
   "outputs": [],
   "source": [
    "print(dataload['Review'].value_counts())\n",
    "print(dataload['Rating'].value_counts())"
   ]
  },
  {
   "cell_type": "markdown",
   "metadata": {},
   "source": [
    "Analisis Mean, Median dari kolom review"
   ]
  },
  {
   "cell_type": "code",
   "execution_count": 43,
   "metadata": {},
   "outputs": [
    {
     "name": "stdout",
     "output_type": "stream",
     "text": [
      "Rata-Rata Review  : 2430.5\n",
      "Median dari Review : 2430.5\n"
     ]
    }
   ],
   "source": [
    "print('Rata-Rata Review  :',dataload['Review'].mean())\n",
    "print('Median dari Review :',dataload['Review'].median())"
   ]
  },
  {
   "cell_type": "markdown",
   "metadata": {},
   "source": [
    "Analisis Mean, Median, modus dalam kolom Rating"
   ]
  },
  {
   "cell_type": "code",
   "execution_count": 44,
   "metadata": {},
   "outputs": [
    {
     "name": "stdout",
     "output_type": "stream",
     "text": [
      "Rata-Rata Rating  : 3.914333333333333\n",
      "Median dari Rating : 4.0\n",
      "Modus dari Rating : 5.0 Rate\n"
     ]
    }
   ],
   "source": [
    "print('Rata-Rata Rating  :',dataload['Rating'].mean())\n",
    "print('Median dari Rating :',dataload['Rating'].median())\n",
    "print('Modus dari Rating :',dataload['Rating'].mode().values[0],'Rate')"
   ]
  },
  {
   "cell_type": "markdown",
   "metadata": {},
   "source": [
    "##### Insight :\n",
    "dalam hasil output Review terdapat:\n",
    "- Rata-Rata Review: 2430.5\n",
    "- Median dari Review: 2430.5\n",
    "\n",
    "Nilai dalam kolom 'Review' memiliki rata-rata dan median yang sama, yaitu 2430.5.nilai median dan rata-rata yang sama menunjukkan bahwa tidak ada skewness yang signifikan dalam distribusi 'Review' dalam kolom review tidak menggunakan modus karena tidak relevant nilai-nilai dalam kolom tidak memiliki distribusi yang jelas atau jika tidak ada nilai yang sering muncul\n",
    "\n",
    "dalam hasil output Rating terdapat:\n",
    "- Rata-Rata Rating: 3.914\n",
    "- Median dari Rating: 4.0\n",
    "- Modus dari Rating: 5.0 Rate\n",
    "\n",
    "Nilai 'Rating' memiliki rata-rata sekitar 3.914 dan median sebesar 4.0. Ini menunjukkan bahwa sebagian besar pengguna memberikan rating yang rendah atau setidaknya mencapai rata-rata yang hampir mendekati 4.0. Kemudian modus dari Rating adalah 5.0, yang menunjukkan bahwa rating 5.0 merupakan yang paling sering muncul  menunjukan bahwa sebagian besar pengguna memberikan rating yang sangat tinggi (5.0) untuk produk Ramen."
   ]
  },
  {
   "cell_type": "markdown",
   "metadata": {},
   "source": [
    "##### Analisa Inferensial\n",
    " Dalam penjabaran masalah tentang Apakah ada perbedaan yang signifikan dalam rating dari gaya kemasan/Style? akan di lakukan Analisa Inferential ANOVA"
   ]
  },
  {
   "cell_type": "code",
   "execution_count": 30,
   "metadata": {},
   "outputs": [
    {
     "data": {
      "text/plain": [
       "array(['Cup', 'Pack', 'Tray', 'Bowl', 'Box', 'Can'], dtype=object)"
      ]
     },
     "execution_count": 30,
     "metadata": {},
     "output_type": "execute_result"
    }
   ],
   "source": [
    "dataload['Style'].unique()"
   ]
  },
  {
   "cell_type": "markdown",
   "metadata": {},
   "source": [
    "Memisahkan data rating untuk produk dengan gaya kemasan/Style Cup,Pack, Tray, Bowl, Box, Can"
   ]
  },
  {
   "cell_type": "code",
   "execution_count": 34,
   "metadata": {},
   "outputs": [],
   "source": [
    "Cups = dataload['Rating'][(dataload['Style']=='Cup')]\n",
    "Packs = dataload['Rating'][dataload['Style']=='Pack']\n",
    "Trays = dataload['Rating'][dataload['Style']=='Tray']\n",
    "Bowls = dataload['Rating'][dataload['Style']=='Bowl']\n",
    "Boxs = dataload['Rating'][dataload['Style']=='Box']\n",
    "Cans = dataload['Rating'][dataload['Style']=='Can']"
   ]
  },
  {
   "cell_type": "markdown",
   "metadata": {},
   "source": [
    "Mencetak rata-rata rating untuk produk dengan kemasan Cup, Pack, Tray, Bowl, Box, Can"
   ]
  },
  {
   "cell_type": "code",
   "execution_count": 40,
   "metadata": {},
   "outputs": [
    {
     "name": "stdout",
     "output_type": "stream",
     "text": [
      "Average Rating of cups: 3.84\n",
      "Average Rating of Packs: 3.87\n",
      "Average Rating  of Trays: 2.79\n",
      "Average Rating  of Bowls: 4.23\n",
      "Average Rating  of Boxs: 4.30\n",
      "Average Rating  of Cans: 3.50\n"
     ]
    }
   ],
   "source": [
    "print(f'Average Rating of cups: {Cups.mean():.2f}')\n",
    "print(f'Average Rating of Packs: {Packs.mean():.2f}')\n",
    "print(f'Average Rating  of Trays: {Trays.mean():.2f}')\n",
    "print(f'Average Rating  of Bowls: {Bowls.mean():.2f}')\n",
    "print(f'Average Rating  of Boxs: {Boxs.mean():.2f}')\n",
    "print(f'Average Rating  of Cans: {Cans.mean():.2f}')"
   ]
  },
  {
   "cell_type": "markdown",
   "metadata": {},
   "source": [
    "Menggunakan fungsi f_oneway dari modul stats dalam paket scipy untuk melakukan uji one-way ANOVA."
   ]
  },
  {
   "cell_type": "code",
   "execution_count": 38,
   "metadata": {},
   "outputs": [
    {
     "name": "stdout",
     "output_type": "stream",
     "text": [
      "P-value: 0.027060445741011054\n"
     ]
    }
   ],
   "source": [
    "res = stats.f_oneway(Cups, Packs, Trays, Bowls, Boxs, Cans)\n",
    "print('P-value:',res.pvalue)"
   ]
  },
  {
   "cell_type": "markdown",
   "metadata": {},
   "source": [
    "##### Insight :\n",
    "dalam hasil analisa infenrential Anova terdapat output :\n",
    "- P-value: 0.027060445741011054\n",
    "\n",
    "H0 : Tidak terdapat perbedaan Rating yang signifikan terhadap keenam Style tersebut.\n",
    "\n",
    "H1: Terdapat perbedaan Rating yang signifikan terhadap keenam Style.\n",
    "\n",
    "p-value kurang dari 0,05 sehingga H0 kami tolak yang berarti Rating antara Cups, Packs, Trays, Bowls, Boxs, dan Cans berbeda secara signifikan. Artinya memiliki cukup bukti untuk menyimpulkan bahwa terdapat perbedaan signifikan dalam rating antara setidaknya satu pasang gaya kemasan dari keenam yang diamati (Cups, Packs, Trays, Bowls, Boxs, dan Cans).\n"
   ]
  },
  {
   "cell_type": "markdown",
   "metadata": {},
   "source": [
    "#### Visualisasi Data\n"
   ]
  },
  {
   "cell_type": "code",
   "execution_count": 48,
   "metadata": {},
   "outputs": [
    {
     "data": {
      "text/html": [
       "<div>\n",
       "<style scoped>\n",
       "    .dataframe tbody tr th:only-of-type {\n",
       "        vertical-align: middle;\n",
       "    }\n",
       "\n",
       "    .dataframe tbody tr th {\n",
       "        vertical-align: top;\n",
       "    }\n",
       "\n",
       "    .dataframe thead th {\n",
       "        text-align: right;\n",
       "    }\n",
       "</style>\n",
       "<table border=\"1\" class=\"dataframe\">\n",
       "  <thead>\n",
       "    <tr style=\"text-align: right;\">\n",
       "      <th></th>\n",
       "      <th>Review</th>\n",
       "      <th>Brand Ramen</th>\n",
       "      <th>Variety Ramen</th>\n",
       "      <th>Style</th>\n",
       "      <th>Country</th>\n",
       "      <th>Rating</th>\n",
       "    </tr>\n",
       "  </thead>\n",
       "  <tbody>\n",
       "    <tr>\n",
       "      <th>0</th>\n",
       "      <td>2580</td>\n",
       "      <td>New Touch</td>\n",
       "      <td>T's Restaurant Tantanmen</td>\n",
       "      <td>Cup</td>\n",
       "      <td>Japan</td>\n",
       "      <td>3.75</td>\n",
       "    </tr>\n",
       "    <tr>\n",
       "      <th>1</th>\n",
       "      <td>2579</td>\n",
       "      <td>Just Way</td>\n",
       "      <td>Noodles Spicy Hot Sesame Spicy Hot Sesame Guan...</td>\n",
       "      <td>Pack</td>\n",
       "      <td>Taiwan</td>\n",
       "      <td>1.00</td>\n",
       "    </tr>\n",
       "    <tr>\n",
       "      <th>2</th>\n",
       "      <td>2578</td>\n",
       "      <td>Nissin</td>\n",
       "      <td>Cup Noodles Chicken Vegetable</td>\n",
       "      <td>Cup</td>\n",
       "      <td>USA</td>\n",
       "      <td>2.25</td>\n",
       "    </tr>\n",
       "    <tr>\n",
       "      <th>3</th>\n",
       "      <td>2577</td>\n",
       "      <td>Wei Lih</td>\n",
       "      <td>GGE Ramen Snack Tomato Flavor</td>\n",
       "      <td>Pack</td>\n",
       "      <td>Taiwan</td>\n",
       "      <td>2.75</td>\n",
       "    </tr>\n",
       "    <tr>\n",
       "      <th>4</th>\n",
       "      <td>2576</td>\n",
       "      <td>Ching's Secret</td>\n",
       "      <td>Singapore Curry</td>\n",
       "      <td>Pack</td>\n",
       "      <td>India</td>\n",
       "      <td>3.75</td>\n",
       "    </tr>\n",
       "    <tr>\n",
       "      <th>5</th>\n",
       "      <td>2575</td>\n",
       "      <td>Samyang Foods</td>\n",
       "      <td>Kimchi song Song Ramen</td>\n",
       "      <td>Pack</td>\n",
       "      <td>South Korea</td>\n",
       "      <td>4.75</td>\n",
       "    </tr>\n",
       "    <tr>\n",
       "      <th>6</th>\n",
       "      <td>2574</td>\n",
       "      <td>Acecook</td>\n",
       "      <td>Spice Deli Tantan Men With Cilantro</td>\n",
       "      <td>Cup</td>\n",
       "      <td>Japan</td>\n",
       "      <td>4.00</td>\n",
       "    </tr>\n",
       "    <tr>\n",
       "      <th>7</th>\n",
       "      <td>2573</td>\n",
       "      <td>Ikeda Shoku</td>\n",
       "      <td>Nabeyaki Kitsune Udon</td>\n",
       "      <td>Tray</td>\n",
       "      <td>Japan</td>\n",
       "      <td>3.75</td>\n",
       "    </tr>\n",
       "    <tr>\n",
       "      <th>8</th>\n",
       "      <td>2572</td>\n",
       "      <td>Ripe'n'Dry</td>\n",
       "      <td>Hokkaido Soy Sauce Ramen</td>\n",
       "      <td>Pack</td>\n",
       "      <td>Japan</td>\n",
       "      <td>0.25</td>\n",
       "    </tr>\n",
       "    <tr>\n",
       "      <th>9</th>\n",
       "      <td>2571</td>\n",
       "      <td>KOKA</td>\n",
       "      <td>The Original Spicy Stir-Fried Noodles</td>\n",
       "      <td>Pack</td>\n",
       "      <td>Singapore</td>\n",
       "      <td>2.50</td>\n",
       "    </tr>\n",
       "  </tbody>\n",
       "</table>\n",
       "</div>"
      ],
      "text/plain": [
       "   Review     Brand Ramen                                      Variety Ramen  \\\n",
       "0    2580       New Touch                          T's Restaurant Tantanmen    \n",
       "1    2579        Just Way  Noodles Spicy Hot Sesame Spicy Hot Sesame Guan...   \n",
       "2    2578          Nissin                      Cup Noodles Chicken Vegetable   \n",
       "3    2577         Wei Lih                      GGE Ramen Snack Tomato Flavor   \n",
       "4    2576  Ching's Secret                                    Singapore Curry   \n",
       "5    2575   Samyang Foods                             Kimchi song Song Ramen   \n",
       "6    2574         Acecook                Spice Deli Tantan Men With Cilantro   \n",
       "7    2573     Ikeda Shoku                              Nabeyaki Kitsune Udon   \n",
       "8    2572      Ripe'n'Dry                           Hokkaido Soy Sauce Ramen   \n",
       "9    2571            KOKA              The Original Spicy Stir-Fried Noodles   \n",
       "\n",
       "  Style      Country  Rating  \n",
       "0   Cup        Japan    3.75  \n",
       "1  Pack       Taiwan    1.00  \n",
       "2   Cup          USA    2.25  \n",
       "3  Pack       Taiwan    2.75  \n",
       "4  Pack        India    3.75  \n",
       "5  Pack  South Korea    4.75  \n",
       "6   Cup        Japan    4.00  \n",
       "7  Tray        Japan    3.75  \n",
       "8  Pack        Japan    0.25  \n",
       "9  Pack    Singapore    2.50  "
      ]
     },
     "execution_count": 48,
     "metadata": {},
     "output_type": "execute_result"
    }
   ],
   "source": [
    "dataload.head(10)"
   ]
  },
  {
   "cell_type": "markdown",
   "metadata": {},
   "source": [
    "- Apa saja brand Ramen di berbagai negara?\n",
    "\n",
    "##### Insight :\n",
    "- menunjukkan bahwa Ramen sangat populer di Jepang.\n",
    "- Sebaliknya, Pakistan menunjukkan jumlah ulasan Ramen terendah, yang bisa menunjukkan bahwa Ramen kurang populer atau kurang dikenal di Pakistan.\n",
    "\n",
    "\n"
   ]
  },
  {
   "cell_type": "code",
   "execution_count": 50,
   "metadata": {},
   "outputs": [
    {
     "data": {
      "text/plain": [
       "<Axes: xlabel='Country'>"
      ]
     },
     "execution_count": 50,
     "metadata": {},
     "output_type": "execute_result"
    },
    {
     "data": {
      "image/png": "[encoded data removed]",
      "text/plain": [
       "<Figure size 640x480 with 1 Axes>"
      ]
     },
     "metadata": {},
     "output_type": "display_data"
    }
   ],
   "source": [
    "dataload['Country'].value_counts().plot(kind='bar')"
   ]
  },
  {
   "cell_type": "markdown",
   "metadata": {},
   "source": [
    "- Negara mana saja dengan rata-rata % rating terbaik?\n",
    "\n",
    "##### Insight :\n",
    "Negara Malaysia menunjukkan rata-rata rating tertinggi untuk Ramen, yang mungkin mengindikasikan bahwa Rating ramen disana cukup bagus peminatnya\n",
    "Di sisi lain, Pakistan menunjukkan rata-rata rating terendah untuk Ramen, yang bisa menunjukkan bahwa Rating diPakistan mungkin kurang diminati \n"
   ]
  },
  {
   "cell_type": "code",
   "execution_count": 57,
   "metadata": {},
   "outputs": [
    {
     "data": {
      "text/plain": [
       "<Axes: xlabel='Country'>"
      ]
     },
     "execution_count": 57,
     "metadata": {},
     "output_type": "execute_result"
    },
    {
     "data": {
      "image/png": "[encoded data removed]",
      "text/plain": [
       "<Figure size 640x480 with 1 Axes>"
      ]
     },
     "metadata": {},
     "output_type": "display_data"
    }
   ],
   "source": [
    "avg_rating = dataload.groupby('Country')['Rating'].mean().sort_values(ascending=False)\n",
    "avg_rating.plot(kind='bar')"
   ]
  },
  {
   "cell_type": "markdown",
   "metadata": {},
   "source": [
    "- Bagaimana nilai Rating dalam rentang baris 300 ?\n",
    "\n",
    "##### Insight :\n",
    "- Visualisasi ini menunjukkan rating untuk setiap baris data dalam dataset.\n",
    "- Dengan menggunakan jenis plot bar, setiap nilai rating diwakili oleh sebuah bar.\n",
    "- Setiap baris data memiliki rating sendiri, jumlah bar yang dihasilkan setara dengan jumlah baris dalam dataset."
   ]
  },
  {
   "cell_type": "code",
   "execution_count": 58,
   "metadata": {},
   "outputs": [
    {
     "data": {
      "text/plain": [
       "<Axes: >"
      ]
     },
     "execution_count": 58,
     "metadata": {},
     "output_type": "execute_result"
    },
    {
     "data": {
      "image/png": "[encoded data removed]",
      "text/plain": [
       "<Figure size 640x480 with 1 Axes>"
      ]
     },
     "metadata": {},
     "output_type": "display_data"
    }
   ],
   "source": [
    "dataload['Rating'].plot(kind='bar')"
   ]
  },
  {
   "cell_type": "markdown",
   "metadata": {},
   "source": [
    "- Bagaimana Review dalam setiap negara Tentang Ramen?"
   ]
  },
  {
   "cell_type": "code",
   "execution_count": 63,
   "metadata": {},
   "outputs": [
    {
     "data": {
      "text/plain": [
       "<Axes: xlabel='Country'>"
      ]
     },
     "execution_count": 63,
     "metadata": {},
     "output_type": "execute_result"
    },
    {
     "data": {
      "image/png": "[encoded data removed]",
      "text/plain": [
       "<Figure size 640x480 with 1 Axes>"
      ]
     },
     "metadata": {},
     "output_type": "display_data"
    }
   ],
   "source": [
    "dataload[['Country','Review']].groupby('Country').sum().plot()"
   ]
  },
  {
   "cell_type": "markdown",
   "metadata": {},
   "source": [
    "# Pengambilan Kesimpulan\n",
    "Berdasarkan pendekatan SMART, Big Ramen berhasil mengidentifikasi tantangan dalam meningkatkan varian produk Ramen untuk memenuhi kebutuhan pasar yang beragam. Dengan fokus pada analisis data ulasan dan rating pelanggan, mereka berhasil merancang strategi untuk menciptakan varian baru Ramen, Analisis deskriptif menunjukkan bahwa distribusi ulasan (Review) memiliki nilai rata-rata dan median yang sama, sedangkan distribusi rating memiliki rata-rata yang mencapai 3.9, median 4.0, dan modus 5.0. \n",
    "Big Ramen telah berhasil mengidentifikasi masalah, merancang strategi yang sesuai, dan melakukan analisis data yang mendalam untuk meningkatkan inovasi produk Ramen dan memberikan hasil analisa sesuai dengan waktu yang ditetapkan.\n",
    "\n"
   ]
  }
 ],
 "metadata": {
  "kernelspec": {
   "display_name": "base",
   "language": "python",
   "name": "python3"
  },
  "language_info": {
   "codemirror_mode": {
    "name": "ipython",
    "version": 3
   },
   "file_extension": ".py",
   "mimetype": "text/x-python",
   "name": "python",
   "nbconvert_exporter": "python",
   "pygments_lexer": "ipython3",
   "version": "3.11.7"
  }
 },
 "nbformat": 4,
 "nbformat_minor": 2
}
